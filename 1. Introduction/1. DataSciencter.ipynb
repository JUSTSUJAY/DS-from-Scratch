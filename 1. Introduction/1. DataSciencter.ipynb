{
 "cells": [
  {
   "cell_type": "markdown",
   "metadata": {},
   "source": [
    "User Id to name"
   ]
  },
  {
   "cell_type": "code",
   "execution_count": 1,
   "metadata": {},
   "outputs": [],
   "source": [
    "users = [\n",
    "{ \"id\": 0, \"name\": \"Hero\" },\n",
    "{ \"id\": 1, \"name\": \"Dunn\" },\n",
    "{ \"id\": 2, \"name\": \"Sue\" },\n",
    "{ \"id\": 3, \"name\": \"Chi\" },\n",
    "{ \"id\": 4, \"name\": \"Thor\" },\n",
    "{ \"id\": 5, \"name\": \"Clive\" },\n",
    "{ \"id\": 6, \"name\": \"Hicks\" },\n",
    "{ \"id\": 7, \"name\": \"Devin\" },\n",
    "{ \"id\": 8, \"name\": \"Kate\" },\n",
    "{ \"id\": 9, \"name\": \"Klein\" }\n",
    "]"
   ]
  },
  {
   "cell_type": "code",
   "execution_count": 2,
   "metadata": {},
   "outputs": [],
   "source": [
    "friendship_pairs = [(0, 1), (0, 2), (1, 2), (1, 3), (2, 3), (3, 4),\n",
    "(4, 5), (5, 6), (5, 7), (6, 8), (7, 8), (8, 9)]\n",
    "# For example, the tuple (0, 1) indicates that the data scientist with id 0\n",
    "# (Hero) and the data scientist with id 1 (Dunn) are friends."
   ]
  },
  {
   "cell_type": "code",
   "execution_count": 4,
   "metadata": {},
   "outputs": [],
   "source": [
    "# let’s create a dict where the keys are user ids and the values are\n",
    "# lists of friend ids.\n",
    "\n",
    "# for every user, assign an empty list first\n",
    "friendships = {user['id']:[] for user in users}"
   ]
  },
  {
   "cell_type": "code",
   "execution_count": 5,
   "metadata": {},
   "outputs": [],
   "source": [
    "# loop in friendship_pairs and fill the list\n",
    "for friend1, friend2 in friendship_pairs:\n",
    "    friendships[friend1].append(friend2)\n",
    "    # I'm also a friend to my friend\n",
    "    friendships[friend2].append(friend1)"
   ]
  },
  {
   "cell_type": "code",
   "execution_count": 6,
   "metadata": {},
   "outputs": [
    {
     "data": {
      "text/plain": [
       "{0: [1, 2],\n",
       " 1: [0, 2, 3],\n",
       " 2: [0, 1, 3],\n",
       " 3: [1, 2, 4],\n",
       " 4: [3, 5],\n",
       " 5: [4, 6, 7],\n",
       " 6: [5, 8],\n",
       " 7: [5, 8],\n",
       " 8: [6, 7, 9],\n",
       " 9: [8]}"
      ]
     },
     "execution_count": 6,
     "metadata": {},
     "output_type": "execute_result"
    }
   ],
   "source": [
    "friendships"
   ]
  },
  {
   "cell_type": "markdown",
   "metadata": {},
   "source": [
    "What’s the average number of connections?\n",
    "- First we will need to find the number of connections for each user"
   ]
  },
  {
   "cell_type": "code",
   "execution_count": 7,
   "metadata": {},
   "outputs": [],
   "source": [
    "def no_connections(user):\n",
    "    return len(friendships[user])"
   ]
  },
  {
   "cell_type": "code",
   "execution_count": 8,
   "metadata": {},
   "outputs": [
    {
     "name": "stdout",
     "output_type": "stream",
     "text": [
      "24\n"
     ]
    }
   ],
   "source": [
    "total_connections = sum(no_connections(user) for user in friendships.keys())\n",
    "print(total_connections)"
   ]
  },
  {
   "cell_type": "code",
   "execution_count": 10,
   "metadata": {},
   "outputs": [
    {
     "name": "stdout",
     "output_type": "stream",
     "text": [
      "2.4\n"
     ]
    }
   ],
   "source": [
    "average_connections = total_connections/len(friendships.keys())\n",
    "print(average_connections)"
   ]
  },
  {
   "cell_type": "markdown",
   "metadata": {},
   "source": [
    "It’s also easy to find the most connected people—they’re the people who\n",
    "have the largest numbers of friends.\n",
    "Since there aren’t very many users, we can simply sort them from “most\n",
    "friends” to “least friends”:\n",
    "\n",
    "list of pairs with (id,num_of_connections)"
   ]
  },
  {
   "cell_type": "code",
   "execution_count": 13,
   "metadata": {},
   "outputs": [
    {
     "name": "stdout",
     "output_type": "stream",
     "text": [
      "[(0, 2), (1, 3), (2, 3), (3, 3), (4, 2), (5, 3), (6, 2), (7, 2), (8, 3), (9, 1)]\n"
     ]
    }
   ],
   "source": [
    "id_to_nConnections = [(id,len(friendships[id])) for id in friendships.keys()]\n",
    "print(id_to_nConnections)"
   ]
  },
  {
   "cell_type": "code",
   "execution_count": 16,
   "metadata": {},
   "outputs": [
    {
     "name": "stdout",
     "output_type": "stream",
     "text": [
      "[(1, 3), (2, 3), (3, 3), (5, 3), (8, 3), (0, 2), (4, 2), (6, 2), (7, 2), (9, 1)]\n"
     ]
    }
   ],
   "source": [
    "id_to_nConnections.sort(key=lambda x:x[1],reverse=True)\n",
    "# lambda x:x[1] -> for every x (1,3), take first position - 3 here\n",
    "print(id_to_nConnections)"
   ]
  },
  {
   "cell_type": "markdown",
   "metadata": {},
   "source": [
    "# Data Scientists You may know\n",
    "we'll try to know the number of possible connections for each Data Scientist in users\n",
    "- More like, I know a guy who knows a guy, so friend of a friend is also a connection for me"
   ]
  },
  {
   "cell_type": "code",
   "execution_count": 48,
   "metadata": {},
   "outputs": [
    {
     "name": "stdout",
     "output_type": "stream",
     "text": [
      "[0, 2, 3, 0, 1, 3]\n"
     ]
    }
   ],
   "source": [
    "def foaf(user): #user will be user id directly\n",
    "    result = list()\n",
    "    for connection1 in friendships[user]:\n",
    "        for connection2 in friendships[connection1]:\n",
    "            result.append(connection2)\n",
    "    return result\n",
    "print(foaf(0))"
   ]
  },
  {
   "cell_type": "code",
   "execution_count": 49,
   "metadata": {},
   "outputs": [],
   "source": [
    "from collections import Counter\n",
    "\n",
    "def friends_of_friends(user):\n",
    "    foaf_counter = Counter()\n",
    "    \n",
    "    for connection1 in friendships[user]:\n",
    "        for connection2 in friendships[connection1]:\n",
    "            if connection2 != user and connection2 not in friendships[user]:\n",
    "                foaf_counter[connection2] += 1\n",
    "\n",
    "    return foaf_counter\n"
   ]
  },
  {
   "cell_type": "code",
   "execution_count": 52,
   "metadata": {},
   "outputs": [
    {
     "name": "stdout",
     "output_type": "stream",
     "text": [
      "Counter({0: 2, 5: 1})\n"
     ]
    }
   ],
   "source": [
    "print(friends_of_friends(3)) "
   ]
  },
  {
   "attachments": {
    "image.png": {
     "image/png": "[encoded data removed]"
    }
   },
   "cell_type": "markdown",
   "metadata": {},
   "source": [
    "![image.png](attachment:image.png)"
   ]
  },
  {
   "cell_type": "markdown",
   "metadata": {},
   "source": [
    "As per the image above, 3 was connected to 0(foaf for 3) had 2 mutual connections(1,2) and 5(foaf for 3) had single mutual connection(4)\n",
    "\n",
    "As a data scientist, you know that you also might enjoy meeting users with\n",
    "similar interests. (This is a good example of the “substantive expertise”\n",
    "aspect of data science.) After asking around, you manage to get your hands\n",
    "on this data, as a list of pairs (user_id, interest)"
   ]
  },
  {
   "cell_type": "code",
   "execution_count": 53,
   "metadata": {},
   "outputs": [],
   "source": [
    "interests = [\n",
    "(0, \"Hadoop\"), (0, \"Big Data\"), (0, \"HBase\"), (0, \"Java\"),\n",
    "(0, \"Spark\"), (0, \"Storm\"), (0, \"Cassandra\"),\n",
    "(1, \"NoSQL\"), (1, \"MongoDB\"), (1, \"Cassandra\"), (1, \"HBase\"),\n",
    "(1, \"Postgres\"), (2, \"Python\"), (2, \"scikit-learn\"), (2, \"scipy\"),\n",
    "(2, \"numpy\"), (2, \"statsmodels\"), (2, \"pandas\"), (3, \"R\"), (3, \"Python\"),\n",
    "(3, \"statistics\"), (3, \"regression\"), (3, \"probability\"),\n",
    "(4, \"machine learning\"), (4, \"regression\"), (4, \"decision trees\"),\n",
    "(4, \"libsvm\"), (5, \"Python\"), (5, \"R\"), (5, \"Java\"), (5, \"C++\"),\n",
    "(5, \"Haskell\"), (5, \"programming languages\"), (6, \"statistics\"),\n",
    "(6, \"probability\"), (6, \"mathematics\"), (6, \"theory\"),\n",
    "(7, \"machine learning\"), (7, \"scikit-learn\"), (7, \"Mahout\"),\n",
    "(7, \"neural networks\"), (8, \"neural networks\"), (8, \"deep learning\"),\n",
    "(8, \"Big Data\"), (8, \"artificial intelligence\"), (9, \"Hadoop\"),\n",
    "(9, \"Java\"), (9, \"MapReduce\"), (9, \"Big Data\")\n",
    "]"
   ]
  },
  {
   "cell_type": "markdown",
   "metadata": {},
   "source": [
    "For example, Hero (id 0) has no friends in common with Klein (id 9), but\n",
    "they share interests\n",
    "\n",
    "Let's create two dictionaries, that will map, \n",
    "1. user_id to interest\n",
    "2. interest to user_ids"
   ]
  },
  {
   "cell_type": "code",
   "execution_count": 55,
   "metadata": {},
   "outputs": [],
   "source": [
    "from collections import defaultdict\n",
    "id_to_interest = defaultdict(list)\n",
    "for id, interest in interests:\n",
    "    id_to_interest[id].append(interest)\n",
    "\n",
    "interest_to_id = defaultdict(list)\n",
    "for id, interest in interests:\n",
    "    id_to_interest[interest].append(id)\n",
    "\n"
   ]
  },
  {
   "cell_type": "code",
   "execution_count": 58,
   "metadata": {},
   "outputs": [],
   "source": [
    "def most_common_interest_with(user):\n",
    "    common_interests_counter = Counter()\n",
    "    for interest in id_to_interest[user]:\n",
    "        for user_with_interest in interest_to_id[interest]:\n",
    "            if user_with_interest != user:\n",
    "                common_interests_counter[user_with_interest] += 1\n",
    "    return common_interests_counter"
   ]
  },
  {
   "cell_type": "markdown",
   "metadata": {},
   "source": [
    "you've been provided with a dataset containing each user’s salary (in dollars) and tenure as a data\n",
    "scientist (in years):"
   ]
  },
  {
   "cell_type": "code",
   "execution_count": 74,
   "metadata": {},
   "outputs": [],
   "source": [
    "salaries_and_tenures = [(83000, 8.7), (88000, 8.1),\n",
    "                        (48000, 0.7), (76000, 6),\n",
    "                        (69000, 6.5), (76000, 7.5),\n",
    "                        (60000, 2.5), (83000, 10),\n",
    "                        (48000, 1.9), (63000, 4.2)]"
   ]
  },
  {
   "cell_type": "code",
   "execution_count": 78,
   "metadata": {},
   "outputs": [],
   "source": [
    "tenure_to_salary = defaultdict(list)\n",
    "for salary,tenure in salaries_and_tenures:\n",
    "    tenure_to_salary[tenure].append(salary)"
   ]
  },
  {
   "cell_type": "code",
   "execution_count": 79,
   "metadata": {},
   "outputs": [],
   "source": [
    "def tenure_bucket(tenure):\n",
    "    if tenure < 2:\n",
    "        return \"less than two\"\n",
    "    elif tenure < 5:\n",
    "        return \"between two and five\"\n",
    "    else:\n",
    "        return \"more than five\"\n"
   ]
  },
  {
   "cell_type": "code",
   "execution_count": 80,
   "metadata": {},
   "outputs": [],
   "source": [
    "tenure_bucket_to_salary = defaultdict(list)\n",
    "for salary,tenure in salaries_and_tenures:\n",
    "    bucket = tenure_bucket(tenure)\n",
    "    tenure_bucket_to_salary[bucket].append(salary)"
   ]
  },
  {
   "cell_type": "code",
   "execution_count": 81,
   "metadata": {},
   "outputs": [],
   "source": [
    "avg_salary_by_bucket = {\n",
    "    tenure_bucket : sum(salaries)/len(salaries)\n",
    "    for tenure_bucket,salaries in tenure_bucket_to_salary.items()\n",
    "}"
   ]
  },
  {
   "cell_type": "code",
   "execution_count": 85,
   "metadata": {},
   "outputs": [
    {
     "name": "stdout",
     "output_type": "stream",
     "text": [
      "{'more than five': 79166.66666666667, 'less than two': 48000.0, 'between two and five': 61500.0}\n"
     ]
    }
   ],
   "source": [
    "print(avg_salary_by_bucket)"
   ]
  },
  {
   "cell_type": "code",
   "execution_count": null,
   "metadata": {},
   "outputs": [],
   "source": []
  }
 ],
 "metadata": {
  "kernelspec": {
   "display_name": "Python 3",
   "language": "python",
   "name": "python3"
  },
  "language_info": {
   "codemirror_mode": {
    "name": "ipython",
    "version": 3
   },
   "file_extension": ".py",
   "mimetype": "text/x-python",
   "name": "python",
   "nbconvert_exporter": "python",
   "pygments_lexer": "ipython3",
   "version": "3.12.0"
  }
 },
 "nbformat": 4,
 "nbformat_minor": 2
}
